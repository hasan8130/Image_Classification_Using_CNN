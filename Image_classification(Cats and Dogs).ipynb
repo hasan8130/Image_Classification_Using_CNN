{
 "cells": [
  {
   "cell_type": "code",
   "execution_count": null,
   "metadata": {
    "execution": {
     "iopub.execute_input": "2021-11-02T05:13:37.088368Z",
     "iopub.status.busy": "2021-11-02T05:13:37.087508Z",
     "iopub.status.idle": "2021-11-02T05:13:37.096955Z",
     "shell.execute_reply": "2021-11-02T05:13:37.096079Z",
     "shell.execute_reply.started": "2021-11-02T05:13:37.088312Z"
    }
   },
   "outputs": [],
   "source": []
  },
  {
   "cell_type": "code",
   "execution_count": null,
   "metadata": {
    "execution": {
     "iopub.execute_input": "2021-11-02T09:22:00.920014Z",
     "iopub.status.busy": "2021-11-02T09:22:00.918636Z",
     "iopub.status.idle": "2021-11-02T09:22:07.366143Z",
     "shell.execute_reply": "2021-11-02T09:22:07.365021Z",
     "shell.execute_reply.started": "2021-11-02T09:22:00.919913Z"
    }
   },
   "outputs": [],
   "source": [
    "import shutil\n",
    "import tqdm\n",
    "import numpy as np\n",
    "import pandas as pd\n",
    "import matplotlib.pyplot as plt\n",
    "import tensorflow as tf\n",
    "from sklearn.model_selection import train_test_split\n",
    "from tensorflow.keras.preprocessing.image import ImageDataGenerator\n",
    "\n",
    "import logging\n",
    "logger = tf.get_logger()\n",
    "logger.setLevel(logging.ERROR)"
   ]
  },
  {
   "cell_type": "markdown",
   "metadata": {},
   "source": [
    "# Unpack & load data\n",
    "1. unpack data\n",
    "1. split dogs and cats to train and valid datasets\n",
    "1. put dogs and cats files according to their catalogs (need for ImageDataGenerator)"
   ]
  },
  {
   "cell_type": "code",
   "execution_count": null,
   "metadata": {
    "_cell_guid": "b1076dfc-b9ad-4769-8c92-a6c4dae69d19",
    "_uuid": "8f2839f25d086af736a60e9eeb907d3b93b6e0e5",
    "execution": {
     "iopub.execute_input": "2021-11-02T09:22:07.373656Z",
     "iopub.status.busy": "2021-11-02T09:22:07.372976Z",
     "iopub.status.idle": "2021-11-02T09:22:07.382886Z",
     "shell.execute_reply": "2021-11-02T09:22:07.381679Z",
     "shell.execute_reply.started": "2021-11-02T09:22:07.373606Z"
    }
   },
   "outputs": [],
   "source": [
    "import os\n",
    "for dirname, _, filenames in os.walk('/kaggle/input'):\n",
    "    for filename in filenames:\n",
    "        print(os.path.join(dirname, filename))\n",
    "\n"
   ]
  },
  {
   "cell_type": "code",
   "execution_count": null,
   "metadata": {
    "execution": {
     "iopub.execute_input": "2021-11-02T09:22:07.385258Z",
     "iopub.status.busy": "2021-11-02T09:22:07.384656Z",
     "iopub.status.idle": "2021-11-02T09:22:07.402087Z",
     "shell.execute_reply": "2021-11-02T09:22:07.400773Z",
     "shell.execute_reply.started": "2021-11-02T09:22:07.385213Z"
    }
   },
   "outputs": [],
   "source": [
    "CONTENT_DIR = '/kaggle/content'\n",
    "\n",
    "TRAIN_DIR = CONTENT_DIR + '/train'\n",
    "TRAIN_DIR_DOG = TRAIN_DIR + '/dog'\n",
    "TRAIN_DIR_CAT = TRAIN_DIR + '/cat'\n",
    "\n",
    "VALID_DIR = CONTENT_DIR + '/valid'\n",
    "VALID_DIR_DOG = VALID_DIR + '/dog'\n",
    "VALID_DIR_CAT = VALID_DIR + '/cat'"
   ]
  },
  {
   "cell_type": "code",
   "execution_count": null,
   "metadata": {
    "execution": {
     "iopub.execute_input": "2021-11-02T09:22:07.406926Z",
     "iopub.status.busy": "2021-11-02T09:22:07.406215Z",
     "iopub.status.idle": "2021-11-02T09:22:23.922285Z",
     "shell.execute_reply": "2021-11-02T09:22:23.921255Z",
     "shell.execute_reply.started": "2021-11-02T09:22:07.406876Z"
    }
   },
   "outputs": [],
   "source": [
    "# Extract files\n",
    "import zipfile\n",
    "with zipfile.ZipFile('/kaggle/input/dogs-vs-cats/train.zip', 'r') as zipf:\n",
    "    zipf.extractall(CONTENT_DIR)\n",
    "    "
   ]
  },
  {
   "cell_type": "code",
   "execution_count": null,
   "metadata": {
    "execution": {
     "iopub.execute_input": "2021-11-02T09:22:23.926599Z",
     "iopub.status.busy": "2021-11-02T09:22:23.926243Z",
     "iopub.status.idle": "2021-11-02T09:22:23.97762Z",
     "shell.execute_reply": "2021-11-02T09:22:23.976267Z",
     "shell.execute_reply.started": "2021-11-02T09:22:23.926559Z"
    }
   },
   "outputs": [],
   "source": [
    "# Split cats and dogs images to train and valid datasets\n",
    "img_filenames = os.listdir(TRAIN_DIR)\n",
    "print('Num of images:', len(img_filenames))\n",
    "\n",
    "dog_filenames = [fn for fn in img_filenames if fn.startswith('dog')]\n",
    "cat_filenames = [fn for fn in img_filenames if fn.startswith('cat')]\n",
    "\n",
    "dataset_filenames = train_test_split(\n",
    "    dog_filenames, cat_filenames, test_size=0.1, shuffle=True, random_state=42\n",
    ")\n",
    "\n",
    "train_dog_total, valid_dog_total, train_cat_total, valid_cat_total = [len(fns) for fns in dataset_filenames]\n",
    "train_total = train_dog_total + train_cat_total\n",
    "valid_total = valid_dog_total + valid_cat_total\n",
    "print('Train: {}, test: {}'.format(train_total, valid_total))"
   ]
  },
  {
   "cell_type": "code",
   "execution_count": null,
   "metadata": {
    "execution": {
     "iopub.execute_input": "2021-11-02T09:22:23.979985Z",
     "iopub.status.busy": "2021-11-02T09:22:23.979626Z",
     "iopub.status.idle": "2021-11-02T09:22:25.740769Z",
     "shell.execute_reply": "2021-11-02T09:22:25.738152Z",
     "shell.execute_reply.started": "2021-11-02T09:22:23.979939Z"
    }
   },
   "outputs": [],
   "source": [
    "# Move images\n",
    "make_dirs = [TRAIN_DIR_DOG, VALID_DIR_DOG, TRAIN_DIR_CAT, VALID_DIR_CAT]\n",
    "for dir, fns in zip(make_dirs, dataset_filenames):\n",
    "    os.makedirs(dir, exist_ok=True)\n",
    "    for fn in tqdm.tqdm(fns):\n",
    "        shutil.move(os.path.join(TRAIN_DIR, fn), dir)\n",
    "    print('elements in {}: {}'.format(dir, len(os.listdir(dir))))"
   ]
  },
  {
   "cell_type": "code",
   "execution_count": null,
   "metadata": {
    "execution": {
     "iopub.execute_input": "2021-11-02T09:22:25.743441Z",
     "iopub.status.busy": "2021-11-02T09:22:25.742897Z",
     "iopub.status.idle": "2021-11-02T09:22:25.75115Z",
     "shell.execute_reply": "2021-11-02T09:22:25.747567Z",
     "shell.execute_reply.started": "2021-11-02T09:22:25.743391Z"
    }
   },
   "outputs": [],
   "source": []
  },
  {
   "cell_type": "markdown",
   "metadata": {},
   "source": [
    "# Preprocessing\n",
    "1. decode images\n",
    "1. rescale image layers from [0..255] to [0,1]"
   ]
  },
  {
   "cell_type": "code",
   "execution_count": null,
   "metadata": {
    "execution": {
     "iopub.execute_input": "2021-11-02T09:22:25.757467Z",
     "iopub.status.busy": "2021-11-02T09:22:25.752725Z",
     "iopub.status.idle": "2021-11-02T09:22:25.814326Z",
     "shell.execute_reply": "2021-11-02T09:22:25.813235Z",
     "shell.execute_reply.started": "2021-11-02T09:22:25.757412Z"
    }
   },
   "outputs": [],
   "source": [
    "BATCH_SIZE = 128\n",
    "IMAGE_SHAPE = 128"
   ]
  },
  {
   "cell_type": "code",
   "execution_count": null,
   "metadata": {
    "execution": {
     "iopub.execute_input": "2021-11-02T09:22:25.81687Z",
     "iopub.status.busy": "2021-11-02T09:22:25.81619Z",
     "iopub.status.idle": "2021-11-02T09:22:25.826464Z",
     "shell.execute_reply": "2021-11-02T09:22:25.825063Z",
     "shell.execute_reply.started": "2021-11-02T09:22:25.816814Z"
    }
   },
   "outputs": [],
   "source": [
    "train_generator = ImageDataGenerator(rescale=1./255)\n",
    "valid_generator = ImageDataGenerator(rescale=1./255)"
   ]
  },
  {
   "cell_type": "code",
   "execution_count": null,
   "metadata": {
    "execution": {
     "iopub.execute_input": "2021-11-02T09:22:25.829268Z",
     "iopub.status.busy": "2021-11-02T09:22:25.828233Z",
     "iopub.status.idle": "2021-11-02T09:22:26.610334Z",
     "shell.execute_reply": "2021-11-02T09:22:26.60937Z",
     "shell.execute_reply.started": "2021-11-02T09:22:25.829221Z"
    }
   },
   "outputs": [],
   "source": [
    "train_data = train_generator.flow_from_directory(\n",
    "    directory=TRAIN_DIR,\n",
    "    target_size=(IMAGE_SHAPE, IMAGE_SHAPE),\n",
    "    batch_size=BATCH_SIZE,\n",
    "    class_mode='binary'\n",
    ")\n",
    "valid_data = valid_generator.flow_from_directory(\n",
    "    directory=VALID_DIR,\n",
    "    target_size=(IMAGE_SHAPE, IMAGE_SHAPE),\n",
    "    batch_size=BATCH_SIZE,\n",
    "    class_mode='binary',\n",
    "    shuffle=False\n",
    ")"
   ]
  },
  {
   "cell_type": "markdown",
   "metadata": {},
   "source": [
    "# Image visualization"
   ]
  },
  {
   "cell_type": "code",
   "execution_count": null,
   "metadata": {
    "execution": {
     "iopub.execute_input": "2021-11-02T09:22:26.614099Z",
     "iopub.status.busy": "2021-11-02T09:22:26.613837Z",
     "iopub.status.idle": "2021-11-02T09:22:32.141116Z",
     "shell.execute_reply": "2021-11-02T09:22:32.139925Z",
     "shell.execute_reply.started": "2021-11-02T09:22:26.614067Z"
    }
   },
   "outputs": [],
   "source": [
    "# show 25 images\n",
    "some_pets = next(train_data)[0][:25]\n",
    "fig, axes = plt.subplots(5, 5, figsize=(20, 20))\n",
    "for img, ax in zip(some_pets, axes.flatten()):\n",
    "    ax.imshow(img)\n",
    "plt.tight_layout()\n",
    "plt.show()"
   ]
  },
  {
   "cell_type": "markdown",
   "metadata": {
    "execution": {
     "iopub.execute_input": "2021-11-02T05:47:07.473052Z",
     "iopub.status.busy": "2021-11-02T05:47:07.472478Z",
     "iopub.status.idle": "2021-11-02T05:47:07.476971Z",
     "shell.execute_reply": "2021-11-02T05:47:07.476402Z",
     "shell.execute_reply.started": "2021-11-02T05:47:07.473009Z"
    }
   },
   "source": [
    "# Model\n",
    "1. create model\n",
    "1. compile\n",
    "1. summary\n",
    "1. training"
   ]
  },
  {
   "cell_type": "code",
   "execution_count": null,
   "metadata": {
    "execution": {
     "iopub.execute_input": "2021-11-02T09:22:32.14293Z",
     "iopub.status.busy": "2021-11-02T09:22:32.142557Z",
     "iopub.status.idle": "2021-11-02T09:22:35.520943Z",
     "shell.execute_reply": "2021-11-02T09:22:35.519989Z",
     "shell.execute_reply.started": "2021-11-02T09:22:32.142874Z"
    }
   },
   "outputs": [],
   "source": [
    "model = tf.keras.models.Sequential([\n",
    "    tf.keras.layers.Conv2D(\n",
    "        filters=32,\n",
    "        kernel_size=(3, 3),\n",
    "        activation='relu',\n",
    "        input_shape=(IMAGE_SHAPE, IMAGE_SHAPE, 3)\n",
    "    ),\n",
    "    tf.keras.layers.MaxPooling2D(pool_size=2, strides=2),\n",
    "\n",
    "    tf.keras.layers.Conv2D(64, (3, 3), activation='relu'),\n",
    "    tf.keras.layers.MaxPooling2D(2, 2),\n",
    "\n",
    "    tf.keras.layers.Conv2D(128, (3, 3), activation='relu'),\n",
    "    tf.keras.layers.MaxPooling2D(2, 2),\n",
    "\n",
    "    tf.keras.layers.Conv2D(128, (3, 3), activation='relu'),\n",
    "    tf.keras.layers.MaxPooling2D(2, 2),\n",
    "\n",
    "    tf.keras.layers.Flatten(),\n",
    "    tf.keras.layers.Dense(units=512, activation='relu'),\n",
    "    tf.keras.layers.Dense(units=2, activation='softmax')\n",
    "])"
   ]
  },
  {
   "cell_type": "code",
   "execution_count": null,
   "metadata": {
    "execution": {
     "iopub.execute_input": "2021-11-02T09:22:35.525352Z",
     "iopub.status.busy": "2021-11-02T09:22:35.525031Z",
     "iopub.status.idle": "2021-11-02T09:22:35.541537Z",
     "shell.execute_reply": "2021-11-02T09:22:35.540397Z",
     "shell.execute_reply.started": "2021-11-02T09:22:35.52532Z"
    }
   },
   "outputs": [],
   "source": [
    "model.compile(optimizer='adam',\n",
    "              loss='sparse_categorical_crossentropy',\n",
    "              metrics=['accuracy'])"
   ]
  },
  {
   "cell_type": "code",
   "execution_count": null,
   "metadata": {
    "execution": {
     "iopub.execute_input": "2021-11-02T09:22:35.544003Z",
     "iopub.status.busy": "2021-11-02T09:22:35.543324Z",
     "iopub.status.idle": "2021-11-02T09:22:35.563716Z",
     "shell.execute_reply": "2021-11-02T09:22:35.562764Z",
     "shell.execute_reply.started": "2021-11-02T09:22:35.543953Z"
    }
   },
   "outputs": [],
   "source": [
    "model.summary()"
   ]
  },
  {
   "cell_type": "code",
   "execution_count": null,
   "metadata": {
    "execution": {
     "iopub.execute_input": "2021-11-02T09:22:35.565631Z",
     "iopub.status.busy": "2021-11-02T09:22:35.565229Z",
     "iopub.status.idle": "2021-11-02T09:22:35.571757Z",
     "shell.execute_reply": "2021-11-02T09:22:35.570429Z",
     "shell.execute_reply.started": "2021-11-02T09:22:35.565584Z"
    }
   },
   "outputs": [],
   "source": [
    "EPOCHS = 60"
   ]
  },
  {
   "cell_type": "code",
   "execution_count": null,
   "metadata": {
    "execution": {
     "iopub.execute_input": "2021-11-02T09:22:35.575238Z",
     "iopub.status.busy": "2021-11-02T09:22:35.573958Z",
     "iopub.status.idle": "2021-11-02T10:35:32.043867Z",
     "shell.execute_reply": "2021-11-02T10:35:32.042791Z",
     "shell.execute_reply.started": "2021-11-02T09:22:35.575192Z"
    }
   },
   "outputs": [],
   "source": [
    "history = model.fit_generator(\n",
    "    generator=train_data,\n",
    "    steps_per_epoch=(train_total + BATCH_SIZE - 1) // BATCH_SIZE,\n",
    "    epochs=EPOCHS,\n",
    "    validation_data=valid_data,\n",
    "    validation_steps=(valid_total + BATCH_SIZE - 1) // BATCH_SIZE,\n",
    ")"
   ]
  },
  {
   "cell_type": "code",
   "execution_count": null,
   "metadata": {
    "execution": {
     "iopub.execute_input": "2021-11-02T10:51:56.308543Z",
     "iopub.status.busy": "2021-11-02T10:51:56.307951Z",
     "iopub.status.idle": "2021-11-02T10:51:56.406372Z",
     "shell.execute_reply": "2021-11-02T10:51:56.405088Z",
     "shell.execute_reply.started": "2021-11-02T10:51:56.308492Z"
    }
   },
   "outputs": [],
   "source": [
    "# save model - optional\n",
    "model.save('./checkpoints/model4_60epoch.h5')"
   ]
  },
  {
   "cell_type": "code",
   "execution_count": null,
   "metadata": {
    "execution": {
     "iopub.execute_input": "2021-11-02T10:53:55.621266Z",
     "iopub.status.busy": "2021-11-02T10:53:55.620593Z",
     "iopub.status.idle": "2021-11-02T10:53:55.626373Z",
     "shell.execute_reply": "2021-11-02T10:53:55.625146Z",
     "shell.execute_reply.started": "2021-11-02T10:53:55.62123Z"
    }
   },
   "outputs": [],
   "source": [
    "# download model - optional\n",
    "# import os\n",
    "# os.chdir(r'/kaggle/working')\n",
    "# from IPython.display import FileLink\n",
    "# FileLink(r'./checkpoints/model4_60epoch.h5')"
   ]
  },
  {
   "cell_type": "code",
   "execution_count": null,
   "metadata": {
    "execution": {
     "iopub.execute_input": "2021-11-02T10:53:59.22695Z",
     "iopub.status.busy": "2021-11-02T10:53:59.225973Z",
     "iopub.status.idle": "2021-11-02T10:53:59.231447Z",
     "shell.execute_reply": "2021-11-02T10:53:59.230157Z",
     "shell.execute_reply.started": "2021-11-02T10:53:59.226885Z"
    }
   },
   "outputs": [],
   "source": [
    "# set finish path\n",
    "# os.chdir(r'..')"
   ]
  },
  {
   "cell_type": "markdown",
   "metadata": {},
   "source": [
    "# Train visualization\n",
    "Look to validation loss. You see overfitting after ? epoch. Maybe better stay there"
   ]
  },
  {
   "cell_type": "code",
   "execution_count": null,
   "metadata": {
    "execution": {
     "iopub.execute_input": "2021-11-02T10:47:21.912015Z",
     "iopub.status.busy": "2021-11-02T10:47:21.911629Z",
     "iopub.status.idle": "2021-11-02T10:47:22.365575Z",
     "shell.execute_reply": "2021-11-02T10:47:22.364598Z",
     "shell.execute_reply.started": "2021-11-02T10:47:21.911969Z"
    }
   },
   "outputs": [],
   "source": [
    "plt.figure(figsize=(12, 8))\n",
    "\n",
    "plt.subplot(1, 2, 1)\n",
    "plt.plot(range(EPOCHS), history.history['accuracy'], label='train')\n",
    "plt.plot(range(EPOCHS), history.history['val_accuracy'], label='valid')\n",
    "plt.legend(loc='lower right')\n",
    "plt.title('Accuracy')\n",
    "\n",
    "plt.subplot(1, 2, 2)\n",
    "plt.plot(range(EPOCHS), history.history['loss'], label='train')\n",
    "plt.plot(range(EPOCHS), history.history['val_loss'], label='valid')\n",
    "plt.legend(loc='upper left')\n",
    "plt.title('Loss (sparse_categorical_crossentropy)')\n",
    "\n",
    "plt.show()"
   ]
  },
  {
   "cell_type": "markdown",
   "metadata": {},
   "source": [
    "# Predictions\n",
    "1. unzip test data\n",
    "1. scale and predict\n",
    "1. save results"
   ]
  },
  {
   "cell_type": "code",
   "execution_count": null,
   "metadata": {
    "execution": {
     "iopub.execute_input": "2021-11-02T11:10:51.44403Z",
     "iopub.status.busy": "2021-11-02T11:10:51.443675Z",
     "iopub.status.idle": "2021-11-02T11:10:56.114178Z",
     "shell.execute_reply": "2021-11-02T11:10:56.113221Z",
     "shell.execute_reply.started": "2021-11-02T11:10:51.443997Z"
    }
   },
   "outputs": [],
   "source": [
    "TEST_DIR = CONTENT_DIR + '/test'\n",
    "\n",
    "# Extract files\n",
    "import zipfile\n",
    "with zipfile.ZipFile('/kaggle/input/dogs-vs-cats/test1.zip', 'r') as zipf:\n",
    "    zipf.extractall(TEST_DIR)"
   ]
  },
  {
   "cell_type": "code",
   "execution_count": null,
   "metadata": {
    "execution": {
     "iopub.execute_input": "2021-11-02T11:20:18.027836Z",
     "iopub.status.busy": "2021-11-02T11:20:18.027015Z",
     "iopub.status.idle": "2021-11-02T11:21:22.28168Z",
     "shell.execute_reply": "2021-11-02T11:21:22.280511Z",
     "shell.execute_reply.started": "2021-11-02T11:20:18.027801Z"
    }
   },
   "outputs": [],
   "source": [
    "test_generator = ImageDataGenerator(rescale=1./255)\n",
    "\n",
    "test_data = test_generator.flow_from_directory(\n",
    "    directory=TEST_DIR,\n",
    "    target_size=(IMAGE_SHAPE, IMAGE_SHAPE),\n",
    "    batch_size=1,\n",
    "    class_mode='binary',\n",
    "    shuffle=False\n",
    ")\n",
    "test_data.reset()\n",
    "\n",
    "test_total = len(test_data.filenames)\n",
    "predict = model.predict_generator(test_data, steps=test_total, verbose=1)"
   ]
  },
  {
   "cell_type": "code",
   "execution_count": null,
   "metadata": {
    "execution": {
     "iopub.execute_input": "2021-11-02T11:27:53.542942Z",
     "iopub.status.busy": "2021-11-02T11:27:53.542297Z",
     "iopub.status.idle": "2021-11-02T11:27:53.546864Z",
     "shell.execute_reply": "2021-11-02T11:27:53.545798Z",
     "shell.execute_reply.started": "2021-11-02T11:27:53.542906Z"
    }
   },
   "outputs": [],
   "source": [
    "# labels = dict((v,k) for k,v in train_data.class_indices.items())\n",
    "# predictions = [labels[k] for k in np.argmax(predict,axis=1)]\n",
    "# predictions"
   ]
  },
  {
   "cell_type": "code",
   "execution_count": null,
   "metadata": {
    "execution": {
     "iopub.execute_input": "2021-11-02T11:28:16.827552Z",
     "iopub.status.busy": "2021-11-02T11:28:16.826683Z",
     "iopub.status.idle": "2021-11-02T11:28:16.872286Z",
     "shell.execute_reply": "2021-11-02T11:28:16.871298Z",
     "shell.execute_reply.started": "2021-11-02T11:28:16.827509Z"
    }
   },
   "outputs": [],
   "source": [
    "submission = pd.read_csv('/kaggle/input/dogs-vs-cats/sampleSubmission.csv', index_col='id')\n",
    "submission['label'] = np.argmax(predict,axis=1)\n",
    "submission.to_csv('./my_submission.csv')"
   ]
  },
  {
   "cell_type": "code",
   "execution_count": null,
   "metadata": {},
   "outputs": [],
   "source": []
  }
 ],
 "metadata": {
  "kernelspec": {
   "display_name": "Python 3",
   "language": "python",
   "name": "python3"
  },
  "language_info": {
   "codemirror_mode": {
    "name": "ipython",
    "version": 3
   },
   "file_extension": ".py",
   "mimetype": "text/x-python",
   "name": "python",
   "nbconvert_exporter": "python",
   "pygments_lexer": "ipython3",
   "version": "3.8.8"
  }
 },
 "nbformat": 4,
 "nbformat_minor": 4
}
